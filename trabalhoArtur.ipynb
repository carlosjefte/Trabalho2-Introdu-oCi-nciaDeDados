{
 "cells": [
  {
   "cell_type": "code",
   "execution_count": 10,
   "metadata": {},
   "outputs": [
    {
     "name": "stdout",
     "output_type": "stream",
     "text": [
      "Collecting matplotlib\n",
      "  Using cached matplotlib-3.9.2-cp311-cp311-macosx_11_0_arm64.whl.metadata (11 kB)\n",
      "Collecting contourpy>=1.0.1 (from matplotlib)\n",
      "  Using cached contourpy-1.2.1-cp311-cp311-macosx_11_0_arm64.whl.metadata (5.8 kB)\n",
      "Collecting cycler>=0.10 (from matplotlib)\n",
      "  Using cached cycler-0.12.1-py3-none-any.whl.metadata (3.8 kB)\n",
      "Collecting fonttools>=4.22.0 (from matplotlib)\n",
      "  Using cached fonttools-4.53.1-cp311-cp311-macosx_11_0_arm64.whl.metadata (162 kB)\n",
      "Collecting kiwisolver>=1.3.1 (from matplotlib)\n",
      "  Using cached kiwisolver-1.4.5-cp311-cp311-macosx_11_0_arm64.whl.metadata (6.4 kB)\n",
      "Requirement already satisfied: numpy>=1.23 in /Library/Frameworks/Python.framework/Versions/3.11/lib/python3.11/site-packages (from matplotlib) (1.26.4)\n",
      "Requirement already satisfied: packaging>=20.0 in /Library/Frameworks/Python.framework/Versions/3.11/lib/python3.11/site-packages (from matplotlib) (24.0)\n",
      "Collecting pillow>=8 (from matplotlib)\n",
      "  Using cached pillow-10.4.0-cp311-cp311-macosx_11_0_arm64.whl.metadata (9.2 kB)\n",
      "Collecting pyparsing>=2.3.1 (from matplotlib)\n",
      "  Using cached pyparsing-3.1.2-py3-none-any.whl.metadata (5.1 kB)\n",
      "Requirement already satisfied: python-dateutil>=2.7 in /Library/Frameworks/Python.framework/Versions/3.11/lib/python3.11/site-packages (from matplotlib) (2.9.0.post0)\n",
      "Requirement already satisfied: six>=1.5 in /Library/Frameworks/Python.framework/Versions/3.11/lib/python3.11/site-packages (from python-dateutil>=2.7->matplotlib) (1.16.0)\n",
      "Using cached matplotlib-3.9.2-cp311-cp311-macosx_11_0_arm64.whl (7.8 MB)\n",
      "Using cached contourpy-1.2.1-cp311-cp311-macosx_11_0_arm64.whl (245 kB)\n",
      "Using cached cycler-0.12.1-py3-none-any.whl (8.3 kB)\n",
      "Using cached fonttools-4.53.1-cp311-cp311-macosx_11_0_arm64.whl (2.2 MB)\n",
      "Using cached kiwisolver-1.4.5-cp311-cp311-macosx_11_0_arm64.whl (66 kB)\n",
      "Using cached pillow-10.4.0-cp311-cp311-macosx_11_0_arm64.whl (3.4 MB)\n",
      "Using cached pyparsing-3.1.2-py3-none-any.whl (103 kB)\n",
      "Installing collected packages: pyparsing, pillow, kiwisolver, fonttools, cycler, contourpy, matplotlib\n",
      "Successfully installed contourpy-1.2.1 cycler-0.12.1 fonttools-4.53.1 kiwisolver-1.4.5 matplotlib-3.9.2 pillow-10.4.0 pyparsing-3.1.2\n",
      "\n",
      "\u001b[1m[\u001b[0m\u001b[34;49mnotice\u001b[0m\u001b[1;39;49m]\u001b[0m\u001b[39;49m A new release of pip is available: \u001b[0m\u001b[31;49m24.0\u001b[0m\u001b[39;49m -> \u001b[0m\u001b[32;49m24.2\u001b[0m\n",
      "\u001b[1m[\u001b[0m\u001b[34;49mnotice\u001b[0m\u001b[1;39;49m]\u001b[0m\u001b[39;49m To update, run: \u001b[0m\u001b[32;49mpip3 install --upgrade pip\u001b[0m\n",
      "Requirement already satisfied: numpy in /Library/Frameworks/Python.framework/Versions/3.11/lib/python3.11/site-packages (1.26.4)\n",
      "\n",
      "\u001b[1m[\u001b[0m\u001b[34;49mnotice\u001b[0m\u001b[1;39;49m]\u001b[0m\u001b[39;49m A new release of pip is available: \u001b[0m\u001b[31;49m24.0\u001b[0m\u001b[39;49m -> \u001b[0m\u001b[32;49m24.2\u001b[0m\n",
      "\u001b[1m[\u001b[0m\u001b[34;49mnotice\u001b[0m\u001b[1;39;49m]\u001b[0m\u001b[39;49m To update, run: \u001b[0m\u001b[32;49mpip3 install --upgrade pip\u001b[0m\n",
      "Requirement already satisfied: pandas in /Library/Frameworks/Python.framework/Versions/3.11/lib/python3.11/site-packages (2.2.2)\n",
      "Requirement already satisfied: numpy>=1.23.2 in /Library/Frameworks/Python.framework/Versions/3.11/lib/python3.11/site-packages (from pandas) (1.26.4)\n",
      "Requirement already satisfied: python-dateutil>=2.8.2 in /Library/Frameworks/Python.framework/Versions/3.11/lib/python3.11/site-packages (from pandas) (2.9.0.post0)\n",
      "Requirement already satisfied: pytz>=2020.1 in /Library/Frameworks/Python.framework/Versions/3.11/lib/python3.11/site-packages (from pandas) (2024.1)\n",
      "Requirement already satisfied: tzdata>=2022.7 in /Library/Frameworks/Python.framework/Versions/3.11/lib/python3.11/site-packages (from pandas) (2024.1)\n",
      "Requirement already satisfied: six>=1.5 in /Library/Frameworks/Python.framework/Versions/3.11/lib/python3.11/site-packages (from python-dateutil>=2.8.2->pandas) (1.16.0)\n",
      "\n",
      "\u001b[1m[\u001b[0m\u001b[34;49mnotice\u001b[0m\u001b[1;39;49m]\u001b[0m\u001b[39;49m A new release of pip is available: \u001b[0m\u001b[31;49m24.0\u001b[0m\u001b[39;49m -> \u001b[0m\u001b[32;49m24.2\u001b[0m\n",
      "\u001b[1m[\u001b[0m\u001b[34;49mnotice\u001b[0m\u001b[1;39;49m]\u001b[0m\u001b[39;49m To update, run: \u001b[0m\u001b[32;49mpip3 install --upgrade pip\u001b[0m\n"
     ]
    }
   ],
   "source": [
    "!pip3 install matplotlib\n",
    "!pip3 install numpy\n",
    "!pip3 install pandas"
   ]
  },
  {
   "cell_type": "code",
   "execution_count": 11,
   "metadata": {},
   "outputs": [],
   "source": [
    "import matplotlib.pyplot as plt\n",
    "import pandas as pd\n",
    "import numpy as np\n",
    "\n",
    "import statistics\n",
    "df = pd.read_csv('./Trabalho Arthur - Página1.csv')\n",
    "df['Preço Atual'] = df['Preço Atual'].str.replace(',', '.')\n",
    "df['Preço Atual'] = df['Preço Atual'].str.replace('R$ ', '')\n",
    "df['Preço Atual'] = df['Preço Atual'].astype(float)\n",
    "\n",
    "df['Preço Original'] = df['Preço Original'].str.replace(',', '.')\n",
    "df['Preço Original'] = df['Preço Original'].str.replace('R$ ', '')\n",
    "df['Preço Original'] = df['Preço Original'].astype(float)\n",
    "df.drop(\"Unnamed: 0\", axis=1, inplace=True)"
   ]
  },
  {
   "cell_type": "code",
   "execution_count": 14,
   "metadata": {},
   "outputs": [
    {
     "data": {
      "text/html": [
       "<div>\n",
       "<style scoped>\n",
       "    .dataframe tbody tr th:only-of-type {\n",
       "        vertical-align: middle;\n",
       "    }\n",
       "\n",
       "    .dataframe tbody tr th {\n",
       "        vertical-align: top;\n",
       "    }\n",
       "\n",
       "    .dataframe thead th {\n",
       "        text-align: right;\n",
       "    }\n",
       "</style>\n",
       "<table border=\"1\" class=\"dataframe\">\n",
       "  <thead>\n",
       "    <tr style=\"text-align: right;\">\n",
       "      <th></th>\n",
       "      <th>0</th>\n",
       "      <th>1</th>\n",
       "      <th>2</th>\n",
       "    </tr>\n",
       "  </thead>\n",
       "  <tbody>\n",
       "    <tr>\n",
       "      <th>medidas</th>\n",
       "      <td>Creme de Pentear Hidratação Intensa Salon Line</td>\n",
       "      <td>Pantene creme de pentear hidrata 240g</td>\n",
       "      <td>Seda Creme De Pentear 300Ml Cachos Definidos</td>\n",
       "    </tr>\n",
       "    <tr>\n",
       "      <th>Media</th>\n",
       "      <td>39.182069</td>\n",
       "      <td>23.187586</td>\n",
       "      <td>10.307143</td>\n",
       "    </tr>\n",
       "    <tr>\n",
       "      <th>Mediana</th>\n",
       "      <td>39.34</td>\n",
       "      <td>20.99</td>\n",
       "      <td>10.465</td>\n",
       "    </tr>\n",
       "    <tr>\n",
       "      <th>Minimo</th>\n",
       "      <td>14.79</td>\n",
       "      <td>14.64</td>\n",
       "      <td>6.2</td>\n",
       "    </tr>\n",
       "    <tr>\n",
       "      <th>Maximo</th>\n",
       "      <td>59.39</td>\n",
       "      <td>55.9</td>\n",
       "      <td>14.9</td>\n",
       "    </tr>\n",
       "    <tr>\n",
       "      <th>Amplitude</th>\n",
       "      <td>44.6</td>\n",
       "      <td>41.26</td>\n",
       "      <td>8.7</td>\n",
       "    </tr>\n",
       "    <tr>\n",
       "      <th>Desviu Padrão</th>\n",
       "      <td>8.056611</td>\n",
       "      <td>10.017295</td>\n",
       "      <td>1.432545</td>\n",
       "    </tr>\n",
       "  </tbody>\n",
       "</table>\n",
       "</div>"
      ],
      "text/plain": [
       "                                                            0  \\\n",
       "medidas        Creme de Pentear Hidratação Intensa Salon Line   \n",
       "Media                                               39.182069   \n",
       "Mediana                                                 39.34   \n",
       "Minimo                                                  14.79   \n",
       "Maximo                                                  59.39   \n",
       "Amplitude                                                44.6   \n",
       "Desviu Padrão                                        8.056611   \n",
       "\n",
       "                                                    1  \\\n",
       "medidas        Pantene creme de pentear hidrata 240g    \n",
       "Media                                       23.187586   \n",
       "Mediana                                         20.99   \n",
       "Minimo                                          14.64   \n",
       "Maximo                                           55.9   \n",
       "Amplitude                                       41.26   \n",
       "Desviu Padrão                               10.017295   \n",
       "\n",
       "                                                          2  \n",
       "medidas        Seda Creme De Pentear 300Ml Cachos Definidos  \n",
       "Media                                             10.307143  \n",
       "Mediana                                              10.465  \n",
       "Minimo                                                  6.2  \n",
       "Maximo                                                 14.9  \n",
       "Amplitude                                               8.7  \n",
       "Desviu Padrão                                      1.432545  "
      ]
     },
     "metadata": {},
     "output_type": "display_data"
    },
    {
     "name": "stdout",
     "output_type": "stream",
     "text": [
      "Média geral: 24.22\n",
      "Desvio padrão geral: 13.911132975935399\n"
     ]
    }
   ],
   "source": [
    "media_geral = df['Preço Atual'].mean()\n",
    "desvio_padrao_geral = df['Preço Atual'].std()\n",
    "\n",
    "SalonLine = df['Preço Atual'][2:31]\n",
    "Pantene = df['Preço Atual'][31:60]\n",
    "Seda = df['Preço Atual'][62:]\n",
    "\n",
    "data = {\n",
    "    'medidas': ['Creme de Pentear Hidratação Intensa Salon Line','Pantene creme de pentear hidrata 240g ', 'Seda Creme De Pentear 300Ml Cachos Definidos'],\n",
    "    'Media':[SalonLine.mean(),Pantene.mean(),Seda.mean()],\n",
    "    'Mediana':[statistics.median(SalonLine), statistics.median(Pantene),statistics.median(Seda)],\n",
    "    'Minimo':[min(SalonLine),min(Pantene),min(Seda)],\n",
    "    'Maximo':[max(SalonLine),max(Pantene),max(Seda)],\n",
    "    'Amplitude':[max(SalonLine)-min(SalonLine), max(Pantene)-min(Pantene), max(Seda)-min(Seda)],\n",
    "    'Desviu Padrão':[SalonLine.std(), Pantene.std(), Seda.std()]\n",
    "\n",
    "}\n",
    "df_medidas = pd.DataFrame(data)\n",
    "\n",
    "df_medidas = df_medidas.transpose()\n",
    "\n",
    "display(df_medidas)\n",
    "print(\"Média geral: %.2f\" % media_geral)\n",
    "print(\"Desvio padrão geral: \" + str(desvio_padrao_geral))\n"
   ]
  },
  {
   "cell_type": "code",
   "execution_count": 15,
   "metadata": {},
   "outputs": [
    {
     "data": {
      "text/plain": [
       "<Axes: xlabel='Nome do Produto'>"
      ]
     },
     "execution_count": 15,
     "metadata": {},
     "output_type": "execute_result"
    },
    {
     "data": {
      "image/png": "[encoded data removed]",
      "text/plain": [
       "<Figure size 640x480 with 1 Axes>"
      ]
     },
     "metadata": {},
     "output_type": "display_data"
    }
   ],
   "source": [
    "grouped = df.groupby('Nome do Produto')['Preço Atual']\n",
    "result = grouped.agg(['mean', 'std'])\n",
    "result.columns = ['Média', 'Desvio Padrão']\n",
    "result.plot.bar()\n"
   ]
  }
 ],
 "metadata": {
  "kernelspec": {
   "display_name": "Python 3",
   "language": "python",
   "name": "python3"
  },
  "language_info": {
   "codemirror_mode": {
    "name": "ipython",
    "version": 3
   },
   "file_extension": ".py",
   "mimetype": "text/x-python",
   "name": "python",
   "nbconvert_exporter": "python",
   "pygments_lexer": "ipython3",
   "version": "3.11.9"
  },
  "orig_nbformat": 4,
  "vscode": {
   "interpreter": {
    "hash": "e2f3fb39945d6d71985272766363874297102d65fc1a2bcb9468e79dce172f0c"
   }
  }
 },
 "nbformat": 4,
 "nbformat_minor": 2
}
